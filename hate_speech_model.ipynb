{
 "cells": [
  {
   "cell_type": "markdown",
   "metadata": {},
   "source": [
    "# Import Libraries\n"
   ]
  },
  {
   "cell_type": "code",
   "execution_count": null,
   "metadata": {},
   "outputs": [],
   "source": [
    "# Importing Libraries\n",
    "import pandas as pd\n",
    "from gensim.models import Word2Vec\n",
    "import numpy as np\n",
    "import nltk\n",
    "from nltk.corpus import stopwords\n",
    "from nltk.stem import WordNetLemmatizer\n",
    "from nltk.tokenize import word_tokenize\n",
    "from unidecode import unidecode\n",
    "import re\n",
    "from keras.models import Sequential\n",
    "from keras.preprocessing.text import Tokenizer\n",
    "from keras.layers import Embedding, LSTM, Dense\n",
    "from keras.preprocessing.sequence import pad_sequences\n",
    "import numpy as np\n",
    "import matplotlib.pyplot as plt\n",
    "from wordcloud import WordCloud\n",
    "import seaborn as sns\n",
    "from sklearn.metrics import classification_report, confusion_matrix\n",
    "import pickle"
   ]
  },
  {
   "cell_type": "markdown",
   "metadata": {},
   "source": [
    "# Download Stopwords\n"
   ]
  },
  {
   "cell_type": "code",
   "execution_count": null,
   "metadata": {},
   "outputs": [],
   "source": [
    "# Download Stopwords\n",
    "nltk.download('punkt')\n",
    "nltk.download('wordnet')\n",
    "nltk.download('stopwords')"
   ]
  },
  {
   "cell_type": "markdown",
   "metadata": {},
   "source": [
    "# Load the Dataset\n"
   ]
  },
  {
   "cell_type": "code",
   "execution_count": null,
   "metadata": {},
   "outputs": [],
   "source": [
    "# Loading the dataset\n",
    "dataset = pd.read_csv('hate_speech_dataset.csv')\n",
    "dataset.head()"
   ]
  },
  {
   "cell_type": "markdown",
   "metadata": {},
   "source": [
    "# Data Preprocessing\n"
   ]
  },
  {
   "cell_type": "markdown",
   "metadata": {},
   "source": [
    "### Cleaning the data\n"
   ]
  },
  {
   "cell_type": "code",
   "execution_count": null,
   "metadata": {},
   "outputs": [],
   "source": [
    "# Cleaning the data\n",
    "def clean_and_remove_special_chars(text):\n",
    "    # Remove accents and convert non-English characters\n",
    "    text = unidecode(text)\n",
    "\n",
    "    # Remove special characters and digits using regex\n",
    "    text = re.sub(r'[^a-zA-Z\\s]', '', text)\n",
    "\n",
    "    return text\n",
    "\n",
    "\n",
    "# Apply cleaning to the entire 'text' column\n",
    "dataset['cleaned_text'] = dataset['text'].apply(clean_and_remove_special_chars)\n",
    "\n",
    "# Display the cleaned dataset\n",
    "print(dataset[['text', 'cleaned_text']].head())"
   ]
  },
  {
   "cell_type": "markdown",
   "metadata": {},
   "source": [
    "# Visualize Cleaned Data\n"
   ]
  },
  {
   "cell_type": "code",
   "execution_count": null,
   "metadata": {},
   "outputs": [],
   "source": [
    "# Original and cleaned text\n",
    "original_text = dataset['text'].iloc[:5].values\n",
    "cleaned_text = dataset['cleaned_text'].iloc[:5].values\n",
    "\n",
    "# Plotting\n",
    "fig, axes = plt.subplots(nrows=2, ncols=1, figsize=(10, 6))\n",
    "\n",
    "# Original text\n",
    "axes[0].bar(range(len(original_text)), original_text, color='blue')\n",
    "axes[0].set_title('Original Text')\n",
    "axes[0].set_xticks([])  # Hide x-axis ticks for better readability\n",
    "\n",
    "# Cleaned text\n",
    "axes[1].bar(range(len(cleaned_text)), cleaned_text, color='green')\n",
    "axes[1].set_title('Cleaned Text')\n",
    "axes[1].set_xticks([])  # Hide x-axis ticks for better readability\n",
    "\n",
    "plt.tight_layout()\n",
    "plt.show()"
   ]
  },
  {
   "cell_type": "markdown",
   "metadata": {},
   "source": [
    "### Tokenization and Lemmatization\n"
   ]
  },
  {
   "cell_type": "code",
   "execution_count": null,
   "metadata": {},
   "outputs": [],
   "source": [
    "# Tokenization and Lemmatization\n",
    "def preprocess_text(text):\n",
    "    # Tokenize the text\n",
    "    tokens = word_tokenize(text)\n",
    "\n",
    "    # Remove stopwords and lemmatize\n",
    "    lemmatizer = WordNetLemmatizer()\n",
    "    tokens = [lemmatizer.lemmatize(word.lower()) for word in tokens if word.lower(\n",
    "    ) not in stopwords.words('english')]\n",
    "\n",
    "    return ' '.join(tokens)\n",
    "\n",
    "\n",
    "# Apply tokenization and lemmatization to the 'cleaned_text' column\n",
    "dataset['processed_text'] = dataset['cleaned_text'].apply(preprocess_text)\n",
    "\n",
    "# Display the dataset with the processed text\n",
    "dataset.head()"
   ]
  },
  {
   "cell_type": "markdown",
   "metadata": {},
   "source": [
    "# Visualize Tokenization\n"
   ]
  },
  {
   "cell_type": "code",
   "execution_count": null,
   "metadata": {},
   "outputs": [],
   "source": [
    "# Original and processed text\n",
    "original_text = ' '.join(dataset['cleaned_text'].iloc[1:10].values)\n",
    "processed_text = ' '.join(dataset['processed_text'].iloc[1:10].values)\n",
    "\n",
    "# Generate word clouds\n",
    "wordcloud_original = WordCloud(\n",
    "    width=800, height=400, background_color='white').generate(original_text)\n",
    "wordcloud_processed = WordCloud(\n",
    "    width=800, height=400, background_color='white').generate(processed_text)\n",
    "\n",
    "# Plotting\n",
    "fig, axes = plt.subplots(nrows=1, ncols=2, figsize=(16, 8))\n",
    "\n",
    "# Original text word cloud\n",
    "axes[0].imshow(wordcloud_original, interpolation='bilinear')\n",
    "axes[0].set_title('Word Cloud - Original Text')\n",
    "axes[0].axis('off')\n",
    "\n",
    "# Processed text word cloud\n",
    "axes[1].imshow(wordcloud_processed, interpolation='bilinear')\n",
    "axes[1].set_title('Word Cloud - Processed Text')\n",
    "axes[1].axis('off')\n",
    "\n",
    "plt.show()"
   ]
  },
  {
   "cell_type": "markdown",
   "metadata": {},
   "source": [
    "# Vectorization\n"
   ]
  },
  {
   "cell_type": "code",
   "execution_count": null,
   "metadata": {},
   "outputs": [],
   "source": [
    "from sklearn.feature_extraction.text import TfidfVectorizer\n",
    "from sklearn.model_selection import train_test_split\n",
    "import numpy as np\n",
    "\n",
    "# Create a TF-IDF vectorizer\n",
    "# You can adjust max_features based on your vocabulary size\n",
    "vectorizer = TfidfVectorizer(max_features=5000)\n",
    "\n",
    "# Fit the vectorizer with the entire corpus\n",
    "vectorizer.fit(dataset['processed_text'])\n",
    "\n",
    "# Vectorize individual strings in processed_text\n",
    "X = []\n",
    "for text in dataset['processed_text']:\n",
    "    # Transform each individual string using the same vocabulary\n",
    "    vectorized_text = vectorizer.transform([text]).toarray()\n",
    "    X.append(vectorized_text)\n",
    "\n",
    "# Concatenate the individual vectors into a NumPy array\n",
    "X = np.vstack(X)\n",
    "\n",
    "# Replace with your labels\n",
    "y = dataset['label']\n",
    "\n",
    "# Split the data into training and testing sets\n",
    "X_train, X_test, y_train, y_test = train_test_split(\n",
    "    X, y, test_size=0.2, random_state=42)\n",
    "\n",
    "# Display the shape of the vectors and labels\n",
    "print(\"Shape of X_train:\", X_train.shape)\n",
    "print(\"Shape of X_test:\", X_test.shape)\n",
    "print(\"Shape of y_train:\", y_train.shape)\n",
    "print(\"Shape of y_test:\", y_test.shape)"
   ]
  },
  {
   "cell_type": "markdown",
   "metadata": {},
   "source": [
    "# Visualize Vectorization\n"
   ]
  },
  {
   "cell_type": "code",
   "execution_count": null,
   "metadata": {},
   "outputs": [],
   "source": [
    "# Display the heatmap for the TF-IDF vectors\n",
    "plt.figure(figsize=(12, 8))\n",
    "sns.heatmap(X_train[:10, :], cmap='viridis', annot=True,\n",
    "            fmt=\".2f\", xticklabels=vectorizer.get_feature_names_out()[:20])\n",
    "plt.title('TF-IDF Vectors - Sample Data')\n",
    "plt.xlabel('TF-IDF Features')\n",
    "plt.ylabel('Samples')\n",
    "plt.show()"
   ]
  },
  {
   "cell_type": "markdown",
   "metadata": {},
   "source": [
    "# Model Architecture\n"
   ]
  },
  {
   "cell_type": "code",
   "execution_count": null,
   "metadata": {},
   "outputs": [],
   "source": [
    "# Define the Sequential model\n",
    "model = Sequential()\n",
    "\n",
    "# Add a Dense layer with 128 units and 'relu' activation function (you can adjust as needed)\n",
    "model.add(Dense(128, activation='relu', input_shape=(X_train.shape[1],)))\n",
    "\n",
    "# Add an output layer with 1 unit and 'sigmoid' activation function for binary classification\n",
    "model.add(Dense(1, activation='sigmoid'))\n",
    "\n",
    "# Compile the model\n",
    "model.compile(optimizer='adam', loss='binary_crossentropy',\n",
    "              metrics=['accuracy'])\n",
    "\n",
    "# Train the model\n",
    "history = model.fit(X_train, y_train, epochs=10,\n",
    "                    batch_size=32, validation_split=0.2)\n",
    "\n",
    "# Evaluate the model on the test set\n",
    "loss, accuracy = model.evaluate(X_test, y_test)\n",
    "print(f\"Test Loss: {loss:.4f}, Test Accuracy: {accuracy:.4f}\")\n",
    "\n",
    "model.save('hspeechmodel.h5')\n",
    "\n",
    "with open('vectorizer.pkl', 'wb') as file:\n",
    "    pickle.dump(vectorizer, file)\n",
    "\n",
    "# Visualize training history\n",
    "plt.figure(figsize=(12, 5))\n",
    "\n",
    "# Plot training & validation accuracy values\n",
    "plt.subplot(1, 2, 1)\n",
    "plt.plot(history.history['accuracy'])\n",
    "plt.plot(history.history['val_accuracy'])\n",
    "plt.title('Model Accuracy')\n",
    "plt.xlabel('Epoch')\n",
    "plt.ylabel('Accuracy')\n",
    "plt.legend(['Train', 'Validation'], loc='upper left')\n",
    "\n",
    "# Plot training & validation loss values\n",
    "plt.subplot(1, 2, 2)\n",
    "plt.plot(history.history['loss'])\n",
    "plt.plot(history.history['val_loss'])\n",
    "plt.title('Model Loss')\n",
    "plt.xlabel('Epoch')\n",
    "plt.ylabel('Loss')\n",
    "plt.legend(['Train', 'Validation'], loc='upper left')\n",
    "\n",
    "plt.show()\n",
    "\n",
    "# Make predictions on the test set\n",
    "y_pred = model.predict(X_test)\n",
    "y_pred_classes = np.round(y_pred)\n",
    "\n",
    "# Display confusion matrix\n",
    "cm = confusion_matrix(y_test, y_pred_classes)\n",
    "plt.figure(figsize=(6, 6))\n",
    "sns.heatmap(cm, annot=True, fmt=\"d\", cmap=\"Blues\", cbar=False,\n",
    "            xticklabels=['Non Hate Speech', 'Hate Speech'], yticklabels=['Non Hate Speech', 'Hate Speech'])\n",
    "plt.title('Confusion Matrix')\n",
    "plt.xlabel('Predicted')\n",
    "plt.ylabel('Actual')\n",
    "plt.show()\n",
    "\n",
    "# Display classification report\n",
    "print(\"Classification Report:\")\n",
    "print(classification_report(y_test, y_pred_classes))\n",
    "\n",
    "# Get classification report\n",
    "report = classification_report(y_test, y_pred_classes, output_dict=True)\n",
    "\n",
    "# Extract precision, recall, and F1-score values\n",
    "precision = [report[label]['precision']\n",
    "             for label in report.keys() if label in ['0', '1']]\n",
    "recall = [report[label]['recall']\n",
    "          for label in report.keys() if label in ['0', '1']]\n",
    "f1_score = [report[label]['f1-score']\n",
    "            for label in report.keys() if label in ['0', '1']]\n",
    "\n",
    "# Labels for the bars\n",
    "labels = ['Non Hate Speech', 'Hate Speech']\n",
    "\n",
    "# Plotting\n",
    "x = np.arange(len(labels))\n",
    "width = 0.25  # the width of the bars\n",
    "\n",
    "fig, ax = plt.subplots(figsize=(8, 5))\n",
    "rects1 = ax.bar(x - width, precision, width, label='Precision')\n",
    "rects2 = ax.bar(x, recall, width, label='Recall')\n",
    "rects3 = ax.bar(x + width, f1_score, width, label='F1-Score')\n",
    "\n",
    "# Add some text for labels, title, and custom x-axis tick labels\n",
    "ax.set_xlabel('Metrics')\n",
    "ax.set_title('Classification Metrics by Class')\n",
    "ax.set_xticks(x)\n",
    "ax.set_xticklabels(labels)\n",
    "ax.legend()\n",
    "\n",
    "# Display the values on top of the bars\n",
    "\n",
    "\n",
    "def autolabel(rects):\n",
    "    for rect in rects:\n",
    "        height = rect.get_height()\n",
    "        ax.annotate(f'{height:.2f}',\n",
    "                    xy=(rect.get_x() + rect.get_width() / 2, height),\n",
    "                    xytext=(0, 3),  # 3 points vertical offset\n",
    "                    textcoords=\"offset points\",\n",
    "                    ha='center', va='bottom')\n",
    "\n",
    "\n",
    "autolabel(rects1)\n",
    "autolabel(rects2)\n",
    "autolabel(rects3)\n",
    "\n",
    "fig.tight_layout()\n",
    "\n",
    "plt.show()"
   ]
  }
 ],
 "metadata": {
  "kernelspec": {
   "display_name": "Python 3",
   "language": "python",
   "name": "python3"
  },
  "language_info": {
   "codemirror_mode": {
    "name": "ipython",
    "version": 3
   },
   "file_extension": ".py",
   "mimetype": "text/x-python",
   "name": "python",
   "nbconvert_exporter": "python",
   "pygments_lexer": "ipython3",
   "version": "3.11.4"
  }
 },
 "nbformat": 4,
 "nbformat_minor": 2
}
